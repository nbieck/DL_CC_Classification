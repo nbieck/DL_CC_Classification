{
 "cells": [
  {
   "cell_type": "code",
   "execution_count": null,
   "metadata": {},
   "outputs": [],
   "source": [
    "import os\n",
    "\n",
    "os.makedirs(\"data/17flowers\", exist_ok=True)\n",
    "os.makedirs(\"data/102flowers\", exist_ok=True)"
   ]
  },
  {
   "cell_type": "code",
   "execution_count": null,
   "metadata": {},
   "outputs": [],
   "source": [
    "!wget -P data/17flowers https://thor.robots.ox.ac.uk/datasets/flowers-17/17flowers.tgz\n",
    "!wget -P data/17flowers https://thor.robots.ox.ac.uk/datasets/flowers-17/datasplits.mat\n",
    "!wget -P data/17flowers https://thor.robots.ox.ac.uk/datasets/flowers-17/trimaps.tgz"
   ]
  },
  {
   "cell_type": "code",
   "execution_count": null,
   "metadata": {},
   "outputs": [],
   "source": [
    "!wget -P data/102flowers https://thor.robots.ox.ac.uk/datasets/flowers-102/102flowers.tgz\n",
    "!wget -P data/102flowers https://thor.robots.ox.ac.uk/datasets/flowers-102/imagelabels.mat\n",
    "!wget -P data/102flowers https://thor.robots.ox.ac.uk/datasets/flowers-102/setid.mat"
   ]
  },
  {
   "cell_type": "code",
   "execution_count": null,
   "metadata": {},
   "outputs": [],
   "source": [
    "!tar -xzf data/17flowers/17flowers.tgz -C data/17flowers"
   ]
  },
  {
   "cell_type": "code",
   "execution_count": null,
   "metadata": {},
   "outputs": [],
   "source": [
    "!tar -xzf data/102flowers/102flowers.tgz -C data/102flowers"
   ]
  },
  {
   "cell_type": "code",
   "execution_count": null,
   "metadata": {},
   "outputs": [],
   "source": [
    "!rm data/102flowers/102flowers.tgz\n",
    "!rm data/17flowers/17flowers.tgz"
   ]
  },
  {
   "attachments": {},
   "cell_type": "markdown",
   "metadata": {},
   "source": [
    "## Color constancy dataset using fc4"
   ]
  },
  {
   "cell_type": "code",
   "execution_count": null,
   "metadata": {},
   "outputs": [],
   "source": [
    "import os\n",
    "\n",
    "os.makedirs(\"data/cc/17flowers\", exist_ok=True)\n",
    "os.makedirs(\"data/cc/102flowers\", exist_ok=True)"
   ]
  },
  {
   "attachments": {},
   "cell_type": "markdown",
   "metadata": {},
   "source": [
    "## 17flowers"
   ]
  },
  {
   "cell_type": "code",
   "execution_count": 1,
   "metadata": {},
   "outputs": [
    {
     "name": "stdout",
     "output_type": "stream",
     "text": [
      "/media/shiohiyoko/sandisk/IMLEX/DL/DL_CC_Classification/thirdparty/fc4-python3\n"
     ]
    }
   ],
   "source": [
    "%cd thirdparty/fc4-python3"
   ]
  },
  {
   "cell_type": "code",
   "execution_count": null,
   "metadata": {},
   "outputs": [],
   "source": [
    "import subprocess\n",
    "import sys\n",
    "import cv2\n",
    "import os\n",
    "\n",
    "from fcn import FCN\n",
    "from config import *\n",
    "from utils import get_session\n",
    "from data_provider import load_data\n",
    "import utils\n",
    "from datasets import get_image_pack_fn\n",
    "from data_provider import ImageRecord\n",
    "from PIL import Image\n",
    "import numpy as np\n",
    "\n",
    "\n",
    "data_path = '../../data/17flowers/jpg/files.txt'\n",
    "\n",
    "f = open(data_path, 'r')\n",
    "img_name = f.read().splitlines()\n",
    "f.close()\n",
    "\n",
    "\n",
    "with get_session() as sess:\n",
    "    fcn = FCN(sess=sess, name='../../pretrained_colorchecker/colorchecker_fold1and2.ckpt')\n",
    "    fcn.load_absolute('../../pretrained_colorchecker/colorchecker_fold1and2.ckpt')\n",
    "    \n",
    "    for img in img_name:\n",
    "        path = 'data/17flowers/jpg/'+img\n",
    "\n",
    "        base = os.path.dirname(os.path.abspath('./../')) # 実行ファイルのディレクトリ名\n",
    "        target_path = os.path.join(base, path) # パスの連結\n",
    "        # img = Image.open(target_path)\n",
    "        # img = np.asarray(img)\n",
    "        img = cv2.imread(target_path)\n",
    "        print('image name ', target_path)\n",
    "        # reverse gamma correction for sRGB\n",
    "        img = (img / 255.0) ** 2.2 * 65536\n",
    "        images = [img]\n",
    "        fcn.test_external(images=images, fns=[target_path])"
   ]
  },
  {
   "attachments": {},
   "cell_type": "markdown",
   "metadata": {},
   "source": [
    "change the directory "
   ]
  },
  {
   "cell_type": "code",
   "execution_count": 4,
   "metadata": {},
   "outputs": [
    {
     "name": "stdout",
     "output_type": "stream",
     "text": [
      "mv: cannot stat 'cc_outputs/*': No such file or directory\n"
     ]
    }
   ],
   "source": [
    "!mv cc_outputs/* ../../data/cc/17flowers/\n",
    "!rm -rf cc_outputs"
   ]
  },
  {
   "attachments": {},
   "cell_type": "markdown",
   "metadata": {},
   "source": [
    "not this one"
   ]
  },
  {
   "attachments": {},
   "cell_type": "markdown",
   "metadata": {},
   "source": [
    "/media/shiohiyoko/sandisk/IMLEX/DL/DL_CC_Classification/data/17flowers/jpg/image_0002.jpg"
   ]
  },
  {
   "cell_type": "code",
   "execution_count": null,
   "metadata": {},
   "outputs": [],
   "source": [
    "!python3 ./thirdparty/fc4-python3/fc4.py test ./pretrained_colorchecker/colorchecker_fold1and2.ckpt -1 ./data/17flowers ./data/cc/17flowers"
   ]
  }
 ],
 "metadata": {
  "kernelspec": {
   "display_name": "Python 3",
   "language": "python",
   "name": "python3"
  },
  "language_info": {
   "codemirror_mode": {
    "name": "ipython",
    "version": 3
   },
   "file_extension": ".py",
   "mimetype": "text/x-python",
   "name": "python",
   "nbconvert_exporter": "python",
   "pygments_lexer": "ipython3",
   "version": "3.10.6"
  },
  "orig_nbformat": 4
 },
 "nbformat": 4,
 "nbformat_minor": 2
}
